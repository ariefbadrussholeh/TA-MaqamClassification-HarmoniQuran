{
 "cells": [
  {
   "cell_type": "markdown",
   "id": "add5ac46",
   "metadata": {},
   "source": [
    "# **Audio Feature Extraction**\n",
    "\n",
    "The features used are:\n",
    "\n",
    "- MFCC (Mel-Frequency Cepstral Coefficients)\n",
    "- ZCR (Zero Crossing Rate)\n",
    "- Chroma Feature\n",
    "- RMS Energy (Root Mean Square Energy)\n",
    "- Spectral Centroid\n",
    "- Spectral Bandwidth\n",
    "- Spectral Roll-Off\n",
    "\n",
    "### **Implementation**\n",
    "\n",
    "1. Import the necessary `libraries` and define the `variables` used. Change the variables value accordingly."
   ]
  },
  {
   "cell_type": "code",
   "execution_count": 1,
   "id": "initial_id",
   "metadata": {
    "ExecuteTime": {
     "end_time": "2024-06-02T20:39:29.755817400Z",
     "start_time": "2024-06-02T20:39:29.734147100Z"
    },
    "collapsed": true
   },
   "outputs": [],
   "source": [
    "# Import library\n",
    "import librosa\n",
    "import numpy as np\n",
    "from tqdm import tqdm\n",
    "import os\n",
    "\n",
    "SAMPLE_RATE = 44100"
   ]
  },
  {
   "cell_type": "markdown",
   "id": "92885381",
   "metadata": {},
   "source": [
    "2. Create a function to extract the audio features using `librosa`. Each feature should be `concatenated` into a `single feature vector` for each audio file."
   ]
  },
  {
   "cell_type": "code",
   "execution_count": 2,
   "id": "38e4e8b09eb1d486",
   "metadata": {
    "ExecuteTime": {
     "end_time": "2024-06-02T20:39:29.772620500Z",
     "start_time": "2024-06-02T20:39:29.761168500Z"
    },
    "collapsed": false
   },
   "outputs": [],
   "source": [
    "def extract_features(y, sr=SAMPLE_RATE):\n",
    "    mfccs = librosa.feature.mfcc(y=y, sr=sr, n_mfcc=20)\n",
    "    zcrs = librosa.feature.zero_crossing_rate(y)\n",
    "    chroma = librosa.feature.chroma_cqt(y=y, sr=sr, bins_per_octave=24)\n",
    "    rms = librosa.feature.rms(y=y)\n",
    "    cent = librosa.feature.spectral_centroid(y=y, sr=sr)\n",
    "    spec_bw = librosa.feature.spectral_bandwidth(y=y, sr=sr)\n",
    "    rolloff = librosa.feature.spectral_rolloff(y=y, sr=sr, roll_percent=0.95)\n",
    "    \n",
    "    mfcc_data = mfccs.T\n",
    "    zcr_data = zcrs.T\n",
    "    chroma_data = chroma.T\n",
    "    rms_data = rms.T\n",
    "    cent_data = cent.T\n",
    "    spec_bw_data = spec_bw.T\n",
    "    rolloff_data = rolloff.T\n",
    "\n",
    "    feature_vectors = np.concatenate((mfcc_data, zcr_data, chroma_data, rms_data, cent_data, spec_bw_data, rolloff_data), axis=1)\n",
    "    \n",
    "    return feature_vectors"
   ]
  },
  {
   "cell_type": "markdown",
   "id": "bb94f229",
   "metadata": {},
   "source": [
    "3. `Iterate` through each file in the dataset, `extract the features` using the function defined above, and `save` the `features` along with their `labels` in an `.npz file`."
   ]
  },
  {
   "cell_type": "code",
   "execution_count": 3,
   "id": "cb9a6e86370ad1e0",
   "metadata": {
    "ExecuteTime": {
     "end_time": "2024-06-02T21:40:53.490183500Z",
     "start_time": "2024-06-02T20:39:39.614408800Z"
    },
    "collapsed": false
   },
   "outputs": [
    {
     "name": "stdout",
     "output_type": "stream",
     "text": [
      ">\tProcessing Bayati...\n"
     ]
    },
    {
     "name": "stderr",
     "output_type": "stream",
     "text": [
      "100%|██████████| 851/851 [13:26<00:00,  1.06it/s]\n"
     ]
    },
    {
     "name": "stdout",
     "output_type": "stream",
     "text": [
      ">\tProcessing Hijaz...\n"
     ]
    },
    {
     "name": "stderr",
     "output_type": "stream",
     "text": [
      "100%|██████████| 585/585 [08:30<00:00,  1.15it/s]\n"
     ]
    },
    {
     "name": "stdout",
     "output_type": "stream",
     "text": [
      ">\tProcessing Jiharkah...\n"
     ]
    },
    {
     "name": "stderr",
     "output_type": "stream",
     "text": [
      "100%|██████████| 475/475 [06:35<00:00,  1.20it/s]\n"
     ]
    },
    {
     "name": "stdout",
     "output_type": "stream",
     "text": [
      ">\tProcessing Nahawand...\n"
     ]
    },
    {
     "name": "stderr",
     "output_type": "stream",
     "text": [
      "100%|██████████| 656/656 [09:19<00:00,  1.17it/s]\n"
     ]
    },
    {
     "name": "stdout",
     "output_type": "stream",
     "text": [
      ">\tProcessing Rast...\n"
     ]
    },
    {
     "name": "stderr",
     "output_type": "stream",
     "text": [
      "100%|██████████| 627/627 [08:47<00:00,  1.19it/s]\n"
     ]
    },
    {
     "name": "stdout",
     "output_type": "stream",
     "text": [
      ">\tProcessing Saba...\n"
     ]
    },
    {
     "name": "stderr",
     "output_type": "stream",
     "text": [
      "100%|██████████| 528/528 [07:28<00:00,  1.18it/s]\n"
     ]
    },
    {
     "name": "stdout",
     "output_type": "stream",
     "text": [
      ">\tProcessing Sikah...\n"
     ]
    },
    {
     "name": "stderr",
     "output_type": "stream",
     "text": [
      "100%|██████████| 489/489 [06:54<00:00,  1.18it/s]\n"
     ]
    }
   ],
   "source": [
    "maqams = [\"Bayati\", \"Hijaz\", \"Jiharkah\", \"Nahawand\", \"Rast\", \"Saba\", \"Sikah\"]\n",
    "maqam_to_numeric = {maqam: index for index, maqam in enumerate(maqams)}\n",
    "\n",
    "def process_dataset(directory, output):\n",
    "    features = []\n",
    "    labels = []\n",
    "    for maqam_folder in os.listdir(directory):\n",
    "        print(f\">\\tProcessing {maqam_folder}...\")\n",
    "        maqam_folder_path = os.path.join(directory, maqam_folder)\n",
    "        for maqam_file in tqdm(os.listdir(maqam_folder_path)):\n",
    "            maqam_file_path = os.path.join(maqam_folder_path, maqam_file)\n",
    "            y, _ = librosa.load(maqam_file_path, sr=SAMPLE_RATE)\n",
    "            feature = extract_features(y)\n",
    "            features.append(feature)\n",
    "            labels.append(maqam_to_numeric[maqam_folder])\n",
    "    np.savez(output, features=features, labels=labels)\n",
    "\n",
    "process_dataset(\"Dataset/Mujawwad1_(hop=5)\", \"Saved/Feature/Mujawwad1_(hop=5).npz\")"
   ]
  }
 ],
 "metadata": {
  "kernelspec": {
   "display_name": "Python 3",
   "language": "python",
   "name": "python3"
  },
  "language_info": {
   "codemirror_mode": {
    "name": "ipython",
    "version": 2
   },
   "file_extension": ".py",
   "mimetype": "text/x-python",
   "name": "python",
   "nbconvert_exporter": "python",
   "pygments_lexer": "ipython2",
   "version": "2.7.6"
  }
 },
 "nbformat": 4,
 "nbformat_minor": 5
}
